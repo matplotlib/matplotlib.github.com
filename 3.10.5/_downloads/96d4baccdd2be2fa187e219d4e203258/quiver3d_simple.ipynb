{
  "cells": [
    {
      "cell_type": "markdown",
      "metadata": {},
      "source": [
        "\n# quiver(X, Y, Z, U, V, W)\n\nSee `~mpl_toolkits.mplot3d.axes3d.Axes3D.quiver`.\n"
      ]
    },
    {
      "cell_type": "code",
      "execution_count": null,
      "metadata": {
        "collapsed": false
      },
      "outputs": [],
      "source": [
        "import matplotlib.pyplot as plt\nimport numpy as np\n\nplt.style.use('_mpl-gallery')\n\n# Make data\nn = 4\nx = np.linspace(-1, 1, n)\ny = np.linspace(-1, 1, n)\nz = np.linspace(-1, 1, n)\nX, Y, Z = np.meshgrid(x, y, z)\nU = (X + Y)/5\nV = (Y - X)/5\nW = Z*0\n\n\n# Plot\nfig, ax = plt.subplots(subplot_kw={\"projection\": \"3d\"})\nax.quiver(X, Y, Z, U, V, W)\n\nax.set(xticklabels=[],\n       yticklabels=[],\n       zticklabels=[])\n\nplt.show()"
      ]
    }
  ],
  "metadata": {
    "kernelspec": {
      "display_name": "Python 3",
      "language": "python",
      "name": "python3"
    },
    "language_info": {
      "codemirror_mode": {
        "name": "ipython",
        "version": 3
      },
      "file_extension": ".py",
      "mimetype": "text/x-python",
      "name": "python",
      "nbconvert_exporter": "python",
      "pygments_lexer": "ipython3",
      "version": "3.13.2"
    }
  },
  "nbformat": 4,
  "nbformat_minor": 0
}