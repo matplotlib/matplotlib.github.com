{
  "cells": [
    {
      "cell_type": "markdown",
      "metadata": {},
      "source": [
        "\n# bar3d(x, y, z, dx, dy, dz)\n\nSee `~mpl_toolkits.mplot3d.axes3d.Axes3D.bar3d`.\n"
      ]
    },
    {
      "cell_type": "code",
      "execution_count": null,
      "metadata": {
        "collapsed": false
      },
      "outputs": [],
      "source": [
        "import matplotlib.pyplot as plt\nimport numpy as np\n\nplt.style.use('_mpl-gallery')\n\n# Make data\nx = [1, 1, 2, 2]\ny = [1, 2, 1, 2]\nz = [0, 0, 0, 0]\ndx = np.ones_like(x)*0.5\ndy = np.ones_like(x)*0.5\ndz = [2, 3, 1, 4]\n\n# Plot\nfig, ax = plt.subplots(subplot_kw={\"projection\": \"3d\"})\nax.bar3d(x, y, z, dx, dy, dz)\n\nax.set(xticklabels=[],\n       yticklabels=[],\n       zticklabels=[])\n\nplt.show()"
      ]
    }
  ],
  "metadata": {
    "kernelspec": {
      "display_name": "Python 3",
      "language": "python",
      "name": "python3"
    },
    "language_info": {
      "codemirror_mode": {
        "name": "ipython",
        "version": 3
      },
      "file_extension": ".py",
      "mimetype": "text/x-python",
      "name": "python",
      "nbconvert_exporter": "python",
      "pygments_lexer": "ipython3",
      "version": "3.13.2"
    }
  },
  "nbformat": 4,
  "nbformat_minor": 0
}