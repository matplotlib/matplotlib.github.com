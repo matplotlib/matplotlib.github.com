{
  "cells": [
    {
      "cell_type": "markdown",
      "metadata": {},
      "source": [
        "\n# plot(x, y)\nPlot y versus x as lines and/or markers.\n\nSee `~matplotlib.axes.Axes.plot`.\n"
      ]
    },
    {
      "cell_type": "code",
      "execution_count": null,
      "metadata": {
        "collapsed": false
      },
      "outputs": [],
      "source": [
        "import matplotlib.pyplot as plt\nimport numpy as np\n\nplt.style.use('_mpl-gallery')\n\n# make data\nx = np.linspace(0, 10, 100)\ny = 4 + 1 * np.sin(2 * x)\nx2 = np.linspace(0, 10, 25)\ny2 = 4 + 1 * np.sin(2 * x2)\n\n# plot\nfig, ax = plt.subplots()\n\nax.plot(x2, y2 + 2.5, 'x', markeredgewidth=2)\nax.plot(x, y, linewidth=2.0)\nax.plot(x2, y2 - 2.5, 'o-', linewidth=2)\n\nax.set(xlim=(0, 8), xticks=np.arange(1, 8),\n       ylim=(0, 8), yticks=np.arange(1, 8))\n\nplt.show()"
      ]
    }
  ],
  "metadata": {
    "kernelspec": {
      "display_name": "Python 3",
      "language": "python",
      "name": "python3"
    },
    "language_info": {
      "codemirror_mode": {
        "name": "ipython",
        "version": 3
      },
      "file_extension": ".py",
      "mimetype": "text/x-python",
      "name": "python",
      "nbconvert_exporter": "python",
      "pygments_lexer": "ipython3",
      "version": "3.13.2"
    }
  },
  "nbformat": 4,
  "nbformat_minor": 0
}